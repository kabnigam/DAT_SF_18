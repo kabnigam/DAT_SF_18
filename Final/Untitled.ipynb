{
 "cells": [
  {
   "cell_type": "code",
   "execution_count": 2,
   "metadata": {
    "collapsed": false
   },
   "outputs": [],
   "source": [
    "import pandas as pd\n",
    "from sklearn.svm import SVC\n",
    "from sklearn.preprocessing import StandardScaler"
   ]
  },
  {
   "cell_type": "markdown",
   "metadata": {},
   "source": [
    "Import data and check for null values"
   ]
  },
  {
   "cell_type": "code",
   "execution_count": 3,
   "metadata": {
    "collapsed": false
   },
   "outputs": [
    {
     "name": "stdout",
     "output_type": "stream",
     "text": [
      "<class 'pandas.core.frame.DataFrame'>\n",
      "Int64Index: 59400 entries, 0 to 59399\n",
      "Data columns (total 40 columns):\n",
      "id                       59400 non-null int64\n",
      "amount_tsh               59400 non-null float64\n",
      "date_recorded            59400 non-null object\n",
      "funder                   55765 non-null object\n",
      "gps_height               59400 non-null int64\n",
      "installer                55745 non-null object\n",
      "longitude                59400 non-null float64\n",
      "latitude                 59400 non-null float64\n",
      "wpt_name                 59400 non-null object\n",
      "num_private              59400 non-null int64\n",
      "basin                    59400 non-null object\n",
      "subvillage               59029 non-null object\n",
      "region                   59400 non-null object\n",
      "region_code              59400 non-null int64\n",
      "district_code            59400 non-null int64\n",
      "lga                      59400 non-null object\n",
      "ward                     59400 non-null object\n",
      "population               59400 non-null int64\n",
      "public_meeting           56066 non-null object\n",
      "recorded_by              59400 non-null object\n",
      "scheme_management        55523 non-null object\n",
      "scheme_name              31234 non-null object\n",
      "permit                   56344 non-null object\n",
      "construction_year        59400 non-null int64\n",
      "extraction_type          59400 non-null object\n",
      "extraction_type_group    59400 non-null object\n",
      "extraction_type_class    59400 non-null object\n",
      "management               59400 non-null object\n",
      "management_group         59400 non-null object\n",
      "payment                  59400 non-null object\n",
      "payment_type             59400 non-null object\n",
      "water_quality            59400 non-null object\n",
      "quality_group            59400 non-null object\n",
      "quantity                 59400 non-null object\n",
      "quantity_group           59400 non-null object\n",
      "source                   59400 non-null object\n",
      "source_type              59400 non-null object\n",
      "source_class             59400 non-null object\n",
      "waterpoint_type          59400 non-null object\n",
      "waterpoint_type_group    59400 non-null object\n",
      "dtypes: float64(3), int64(7), object(30)\n",
      "memory usage: 18.6+ MB\n"
     ]
    }
   ],
   "source": [
    "dataraw = pd.read_csv('trainwaterpump.csv')\n",
    "dataraw.info()"
   ]
  },
  {
   "cell_type": "markdown",
   "metadata": {},
   "source": [
    "Convert all string names to lowercase in order to compare them to each other"
   ]
  },
  {
   "cell_type": "code",
   "execution_count": 4,
   "metadata": {
    "collapsed": false
   },
   "outputs": [],
   "source": [
    "   \n",
    "try:\n",
    "    dataraw['funder'] = dataraw['funder'].apply(lambda x: str(x).lower())\n",
    "    dataraw['installer'] = dataraw['installer'].apply(lambda x: str(x).lower())\n",
    "    dataraw['basin'] = dataraw['basin'].apply(lambda x: str(x).lower())\n",
    "except KeyError:\n",
    "    dataraw[i] = 'zero'"
   ]
  },
  {
   "cell_type": "markdown",
   "metadata": {},
   "source": [
    "Functions used to clean data"
   ]
  },
  {
   "cell_type": "code",
   "execution_count": 5,
   "metadata": {
    "collapsed": false
   },
   "outputs": [],
   "source": [
    "def replace_names(x):\n",
    "    names = pd.unique(x.ravel())\n",
    "    namesnum = range(0,len(x))\n",
    "    namesdict = zip(names, namesnum)\n",
    "    namesdict = dict(namesdict)\n",
    "    return namesdict\n",
    "\n",
    "# def data_drop(x,df):\n",
    "#     for each in x:\n",
    "#         return df.drop(each, axis = 1)\n",
    "    \n",
    "# def replace_values(data, x):\n",
    "#     for i in range(0,len(x)):\n",
    "#         return data.replace({x[i]:replace_names(data[x])})\n",
    "    "
   ]
  },
  {
   "cell_type": "markdown",
   "metadata": {},
   "source": [
    "Map all string values to intergers "
   ]
  },
  {
   "cell_type": "code",
   "execution_count": 6,
   "metadata": {
    "collapsed": false,
    "scrolled": true
   },
   "outputs": [],
   "source": [
    "data = dataraw.replace({'funder':replace_names(dataraw.funder)})\n",
    "data = data.replace({'installer':replace_names(data.installer)})\n",
    "data = data.replace({'basin':replace_names(data.basin)})\n",
    "data = data.replace({'subvillage':replace_names(data.subvillage)})\n",
    "data = data.replace({'extraction_type_class':replace_names(data.extraction_type_class)})\n",
    "data = data.replace({'management':replace_names(data.management)})\n",
    "data = data.replace({'management_group':replace_names(data.management_group)})\n",
    "data = data.replace({'payment':replace_names(data.payment)})\n",
    "data = data.replace({'water_quality':replace_names(data.water_quality)})\n",
    "data = data.replace({'quality_group':replace_names(data.quality_group)})\n",
    "data = data.replace({'quantity':replace_names(data.quantity)})\n",
    "data = data.replace({'source_type':replace_names(data.source_type)})\n",
    "data = data.replace({'source_class':replace_names(data.source_class)})\n",
    "data = data.replace({'waterpoint_type':replace_names(data.waterpoint_type)})\n",
    "data = data.replace({'scheme_management':replace_names(data.scheme_management)})\n",
    "data = data.replace({'scheme_name':replace_names(data.scheme_name)})\n",
    "data = data.replace({'extraction_type':replace_names(data.extraction_type)})\n",
    "data = data.replace({'lga':replace_names(data.lga)})\n",
    "data = data.replace({'ward':replace_names(data.ward)})"
   ]
  },
  {
   "cell_type": "markdown",
   "metadata": {},
   "source": [
    "Drop redundant columns"
   ]
  },
  {
   "cell_type": "code",
   "execution_count": 7,
   "metadata": {
    "collapsed": false
   },
   "outputs": [],
   "source": [
    "data = data.drop(\"quantity_group\",axis = 1)\n",
    "data = data.drop(\"wpt_name\",axis = 1)\n",
    "data = data.drop(\"waterpoint_type_group\",axis = 1)\n",
    "data = data.drop(\"source\",axis = 1)\n",
    "data = data.drop(\"payment_type\",axis = 1)\n",
    "data = data.drop(\"region\", axis=1)\n",
    "data = data.drop('recorded_by', axis = 1)\n",
    "data = data.drop('extraction_type_group', axis = 1)\n",
    "data = data.drop('public_meeting', axis =1)\n",
    "data = data.drop(\"permit\", axis=1)"
   ]
  },
  {
   "cell_type": "markdown",
   "metadata": {},
   "source": [
    "Convert dates into number of days since first recorded date"
   ]
  },
  {
   "cell_type": "code",
   "execution_count": 8,
   "metadata": {
    "collapsed": false
   },
   "outputs": [],
   "source": [
    "from pandas import date_range\n",
    "s = date_range(data.date_recorded.min(),data.date_recorded.max())\n",
    "days = []\n",
    "for i in range(0,len(s.values)):\n",
    "    days.append((str(s.values[i]).split('T')[0]))\n",
    "daynum = range(0,len(days))\n",
    "days = zip(days,daynum)\n",
    "daysdict = dict(days)\n",
    "data = data.replace({'date_recorded':daysdict})\n",
    "data.date_recorded = data.date_recorded.replace('2013-12-03',4069)"
   ]
  },
  {
   "cell_type": "code",
   "execution_count": 9,
   "metadata": {
    "collapsed": false
   },
   "outputs": [
    {
     "data": {
      "text/html": [
       "<div>\n",
       "<table border=\"1\" class=\"dataframe\">\n",
       "  <thead>\n",
       "    <tr style=\"text-align: right;\">\n",
       "      <th></th>\n",
       "      <th>id</th>\n",
       "      <th>amount_tsh</th>\n",
       "      <th>date_recorded</th>\n",
       "      <th>funder</th>\n",
       "      <th>gps_height</th>\n",
       "      <th>installer</th>\n",
       "      <th>longitude</th>\n",
       "      <th>latitude</th>\n",
       "      <th>num_private</th>\n",
       "      <th>basin</th>\n",
       "      <th>...</th>\n",
       "      <th>extraction_type_class</th>\n",
       "      <th>management</th>\n",
       "      <th>management_group</th>\n",
       "      <th>payment</th>\n",
       "      <th>water_quality</th>\n",
       "      <th>quality_group</th>\n",
       "      <th>quantity</th>\n",
       "      <th>source_type</th>\n",
       "      <th>source_class</th>\n",
       "      <th>waterpoint_type</th>\n",
       "    </tr>\n",
       "  </thead>\n",
       "  <tbody>\n",
       "    <tr>\n",
       "      <th>0</th>\n",
       "      <td>69572</td>\n",
       "      <td>6000</td>\n",
       "      <td>3074</td>\n",
       "      <td>0</td>\n",
       "      <td>1390</td>\n",
       "      <td>0</td>\n",
       "      <td>34.938093</td>\n",
       "      <td>-9.856322</td>\n",
       "      <td>0</td>\n",
       "      <td>0</td>\n",
       "      <td>...</td>\n",
       "      <td>0</td>\n",
       "      <td>0</td>\n",
       "      <td>0</td>\n",
       "      <td>0</td>\n",
       "      <td>0</td>\n",
       "      <td>0</td>\n",
       "      <td>0</td>\n",
       "      <td>0</td>\n",
       "      <td>0</td>\n",
       "      <td>0</td>\n",
       "    </tr>\n",
       "    <tr>\n",
       "      <th>1</th>\n",
       "      <td>8776</td>\n",
       "      <td>0</td>\n",
       "      <td>3797</td>\n",
       "      <td>1</td>\n",
       "      <td>1399</td>\n",
       "      <td>1</td>\n",
       "      <td>34.698766</td>\n",
       "      <td>-2.147466</td>\n",
       "      <td>0</td>\n",
       "      <td>1</td>\n",
       "      <td>...</td>\n",
       "      <td>0</td>\n",
       "      <td>1</td>\n",
       "      <td>0</td>\n",
       "      <td>1</td>\n",
       "      <td>0</td>\n",
       "      <td>0</td>\n",
       "      <td>1</td>\n",
       "      <td>1</td>\n",
       "      <td>1</td>\n",
       "      <td>0</td>\n",
       "    </tr>\n",
       "    <tr>\n",
       "      <th>2</th>\n",
       "      <td>34310</td>\n",
       "      <td>25</td>\n",
       "      <td>3788</td>\n",
       "      <td>2</td>\n",
       "      <td>686</td>\n",
       "      <td>2</td>\n",
       "      <td>37.460664</td>\n",
       "      <td>-3.821329</td>\n",
       "      <td>0</td>\n",
       "      <td>2</td>\n",
       "      <td>...</td>\n",
       "      <td>0</td>\n",
       "      <td>0</td>\n",
       "      <td>0</td>\n",
       "      <td>2</td>\n",
       "      <td>0</td>\n",
       "      <td>0</td>\n",
       "      <td>0</td>\n",
       "      <td>2</td>\n",
       "      <td>1</td>\n",
       "      <td>1</td>\n",
       "    </tr>\n",
       "    <tr>\n",
       "      <th>3</th>\n",
       "      <td>67743</td>\n",
       "      <td>0</td>\n",
       "      <td>3760</td>\n",
       "      <td>3</td>\n",
       "      <td>263</td>\n",
       "      <td>3</td>\n",
       "      <td>38.486161</td>\n",
       "      <td>-11.155298</td>\n",
       "      <td>0</td>\n",
       "      <td>3</td>\n",
       "      <td>...</td>\n",
       "      <td>1</td>\n",
       "      <td>0</td>\n",
       "      <td>0</td>\n",
       "      <td>1</td>\n",
       "      <td>0</td>\n",
       "      <td>0</td>\n",
       "      <td>2</td>\n",
       "      <td>3</td>\n",
       "      <td>0</td>\n",
       "      <td>1</td>\n",
       "    </tr>\n",
       "    <tr>\n",
       "      <th>4</th>\n",
       "      <td>19728</td>\n",
       "      <td>0</td>\n",
       "      <td>3195</td>\n",
       "      <td>4</td>\n",
       "      <td>0</td>\n",
       "      <td>4</td>\n",
       "      <td>31.130847</td>\n",
       "      <td>-1.825359</td>\n",
       "      <td>0</td>\n",
       "      <td>1</td>\n",
       "      <td>...</td>\n",
       "      <td>0</td>\n",
       "      <td>2</td>\n",
       "      <td>1</td>\n",
       "      <td>1</td>\n",
       "      <td>0</td>\n",
       "      <td>0</td>\n",
       "      <td>3</td>\n",
       "      <td>1</td>\n",
       "      <td>1</td>\n",
       "      <td>0</td>\n",
       "    </tr>\n",
       "  </tbody>\n",
       "</table>\n",
       "<p>5 rows × 30 columns</p>\n",
       "</div>"
      ],
      "text/plain": [
       "      id  amount_tsh  date_recorded  funder  gps_height  installer  longitude  \\\n",
       "0  69572        6000           3074       0        1390          0  34.938093   \n",
       "1   8776           0           3797       1        1399          1  34.698766   \n",
       "2  34310          25           3788       2         686          2  37.460664   \n",
       "3  67743           0           3760       3         263          3  38.486161   \n",
       "4  19728           0           3195       4           0          4  31.130847   \n",
       "\n",
       "    latitude  num_private  basin       ...         extraction_type_class  \\\n",
       "0  -9.856322            0      0       ...                             0   \n",
       "1  -2.147466            0      1       ...                             0   \n",
       "2  -3.821329            0      2       ...                             0   \n",
       "3 -11.155298            0      3       ...                             1   \n",
       "4  -1.825359            0      1       ...                             0   \n",
       "\n",
       "   management  management_group  payment  water_quality  quality_group  \\\n",
       "0           0                 0        0              0              0   \n",
       "1           1                 0        1              0              0   \n",
       "2           0                 0        2              0              0   \n",
       "3           0                 0        1              0              0   \n",
       "4           2                 1        1              0              0   \n",
       "\n",
       "   quantity  source_type  source_class  waterpoint_type  \n",
       "0         0            0             0                0  \n",
       "1         1            1             1                0  \n",
       "2         0            2             1                1  \n",
       "3         2            3             0                1  \n",
       "4         3            1             1                0  \n",
       "\n",
       "[5 rows x 30 columns]"
      ]
     },
     "execution_count": 9,
     "metadata": {},
     "output_type": "execute_result"
    }
   ],
   "source": [
    "data.head()"
   ]
  },
  {
   "cell_type": "markdown",
   "metadata": {},
   "source": [
    "Import labels and map to integer values"
   ]
  },
  {
   "cell_type": "code",
   "execution_count": 10,
   "metadata": {
    "collapsed": false
   },
   "outputs": [],
   "source": [
    "labels = pd.read_csv('trainlabels.csv')\n",
    "labels.status_group = labels.status_group.map({'functional':1,'non functional':0,'functional needs repair':2})"
   ]
  },
  {
   "cell_type": "code",
   "execution_count": null,
   "metadata": {
    "collapsed": false
   },
   "outputs": [],
   "source": [
    "# for i in range(0,len(data.public_meeting.values)):\n",
    "#     if data.public_meeting[i] == False:\n",
    "#         data.public_meeting[i] = 0\n",
    "#     else:\n",
    "#         data.public_meeting[i] = 1\n",
    "        "
   ]
  },
  {
   "cell_type": "code",
   "execution_count": 17,
   "metadata": {
    "collapsed": false
   },
   "outputs": [],
   "source": [
    "scalar = StandardScaler()\n",
    "dataN = scalar.fit_transform(data.ix[:,1:])"
   ]
  },
  {
   "cell_type": "code",
   "execution_count": 19,
   "metadata": {
    "collapsed": false
   },
   "outputs": [],
   "source": [
    "dataN = pd.DataFrame(dataN, columns = data.ix[:,1:].columns)"
   ]
  },
  {
   "cell_type": "code",
   "execution_count": 21,
   "metadata": {
    "collapsed": false
   },
   "outputs": [
    {
     "data": {
      "text/html": [
       "<div>\n",
       "<table border=\"1\" class=\"dataframe\">\n",
       "  <thead>\n",
       "    <tr style=\"text-align: right;\">\n",
       "      <th></th>\n",
       "      <th>amount_tsh</th>\n",
       "      <th>date_recorded</th>\n",
       "      <th>funder</th>\n",
       "      <th>gps_height</th>\n",
       "      <th>installer</th>\n",
       "      <th>longitude</th>\n",
       "      <th>latitude</th>\n",
       "      <th>num_private</th>\n",
       "      <th>basin</th>\n",
       "      <th>subvillage</th>\n",
       "      <th>...</th>\n",
       "      <th>extraction_type_class</th>\n",
       "      <th>management</th>\n",
       "      <th>management_group</th>\n",
       "      <th>payment</th>\n",
       "      <th>water_quality</th>\n",
       "      <th>quality_group</th>\n",
       "      <th>quantity</th>\n",
       "      <th>source_type</th>\n",
       "      <th>source_class</th>\n",
       "      <th>waterpoint_type</th>\n",
       "    </tr>\n",
       "  </thead>\n",
       "  <tbody>\n",
       "    <tr>\n",
       "      <th>0</th>\n",
       "      <td>1.895665</td>\n",
       "      <td>-1.141136</td>\n",
       "      <td>-0.542187</td>\n",
       "      <td>1.041252</td>\n",
       "      <td>-0.477415</td>\n",
       "      <td>0.131052</td>\n",
       "      <td>-1.408791</td>\n",
       "      <td>-0.038749</td>\n",
       "      <td>-1.505187</td>\n",
       "      <td>-1.112424</td>\n",
       "      <td>...</td>\n",
       "      <td>-0.929625</td>\n",
       "      <td>-0.522373</td>\n",
       "      <td>-0.340028</td>\n",
       "      <td>-1.272516</td>\n",
       "      <td>-0.326656</td>\n",
       "      <td>-0.33666</td>\n",
       "      <td>-0.730311</td>\n",
       "      <td>-1.350286</td>\n",
       "      <td>-0.538410</td>\n",
       "      <td>-0.926551</td>\n",
       "    </tr>\n",
       "    <tr>\n",
       "      <th>1</th>\n",
       "      <td>-0.105970</td>\n",
       "      <td>1.022152</td>\n",
       "      <td>-0.538108</td>\n",
       "      <td>1.054237</td>\n",
       "      <td>-0.473470</td>\n",
       "      <td>0.094610</td>\n",
       "      <td>1.207934</td>\n",
       "      <td>-0.038749</td>\n",
       "      <td>-1.091822</td>\n",
       "      <td>-1.112238</td>\n",
       "      <td>...</td>\n",
       "      <td>-0.929625</td>\n",
       "      <td>-0.079115</td>\n",
       "      <td>-0.340028</td>\n",
       "      <td>-0.726817</td>\n",
       "      <td>-0.326656</td>\n",
       "      <td>-0.33666</td>\n",
       "      <td>0.280253</td>\n",
       "      <td>-0.921252</td>\n",
       "      <td>1.765074</td>\n",
       "      <td>-0.926551</td>\n",
       "    </tr>\n",
       "    <tr>\n",
       "      <th>2</th>\n",
       "      <td>-0.097630</td>\n",
       "      <td>0.995223</td>\n",
       "      <td>-0.534029</td>\n",
       "      <td>0.025541</td>\n",
       "      <td>-0.469524</td>\n",
       "      <td>0.515158</td>\n",
       "      <td>0.639751</td>\n",
       "      <td>-0.038749</td>\n",
       "      <td>-0.678456</td>\n",
       "      <td>-1.112051</td>\n",
       "      <td>...</td>\n",
       "      <td>-0.929625</td>\n",
       "      <td>-0.522373</td>\n",
       "      <td>-0.340028</td>\n",
       "      <td>-0.181119</td>\n",
       "      <td>-0.326656</td>\n",
       "      <td>-0.33666</td>\n",
       "      <td>-0.730311</td>\n",
       "      <td>-0.492219</td>\n",
       "      <td>1.765074</td>\n",
       "      <td>-0.066287</td>\n",
       "    </tr>\n",
       "    <tr>\n",
       "      <th>3</th>\n",
       "      <td>-0.105970</td>\n",
       "      <td>0.911444</td>\n",
       "      <td>-0.529950</td>\n",
       "      <td>-0.584751</td>\n",
       "      <td>-0.465578</td>\n",
       "      <td>0.671308</td>\n",
       "      <td>-1.849720</td>\n",
       "      <td>-0.038749</td>\n",
       "      <td>-0.265090</td>\n",
       "      <td>-1.111865</td>\n",
       "      <td>...</td>\n",
       "      <td>-0.179561</td>\n",
       "      <td>-0.522373</td>\n",
       "      <td>-0.340028</td>\n",
       "      <td>-0.726817</td>\n",
       "      <td>-0.326656</td>\n",
       "      <td>-0.33666</td>\n",
       "      <td>1.290816</td>\n",
       "      <td>-0.063185</td>\n",
       "      <td>-0.538410</td>\n",
       "      <td>-0.066287</td>\n",
       "    </tr>\n",
       "    <tr>\n",
       "      <th>4</th>\n",
       "      <td>-0.105970</td>\n",
       "      <td>-0.779092</td>\n",
       "      <td>-0.525871</td>\n",
       "      <td>-0.964200</td>\n",
       "      <td>-0.461632</td>\n",
       "      <td>-0.448669</td>\n",
       "      <td>1.317271</td>\n",
       "      <td>-0.038749</td>\n",
       "      <td>-1.091822</td>\n",
       "      <td>-1.111678</td>\n",
       "      <td>...</td>\n",
       "      <td>-0.929625</td>\n",
       "      <td>0.364144</td>\n",
       "      <td>0.940980</td>\n",
       "      <td>-0.726817</td>\n",
       "      <td>-0.326656</td>\n",
       "      <td>-0.33666</td>\n",
       "      <td>2.301380</td>\n",
       "      <td>-0.921252</td>\n",
       "      <td>1.765074</td>\n",
       "      <td>-0.926551</td>\n",
       "    </tr>\n",
       "  </tbody>\n",
       "</table>\n",
       "<p>5 rows × 29 columns</p>\n",
       "</div>"
      ],
      "text/plain": [
       "   amount_tsh  date_recorded    funder  gps_height  installer  longitude  \\\n",
       "0    1.895665      -1.141136 -0.542187    1.041252  -0.477415   0.131052   \n",
       "1   -0.105970       1.022152 -0.538108    1.054237  -0.473470   0.094610   \n",
       "2   -0.097630       0.995223 -0.534029    0.025541  -0.469524   0.515158   \n",
       "3   -0.105970       0.911444 -0.529950   -0.584751  -0.465578   0.671308   \n",
       "4   -0.105970      -0.779092 -0.525871   -0.964200  -0.461632  -0.448669   \n",
       "\n",
       "   latitude  num_private     basin  subvillage       ...         \\\n",
       "0 -1.408791    -0.038749 -1.505187   -1.112424       ...          \n",
       "1  1.207934    -0.038749 -1.091822   -1.112238       ...          \n",
       "2  0.639751    -0.038749 -0.678456   -1.112051       ...          \n",
       "3 -1.849720    -0.038749 -0.265090   -1.111865       ...          \n",
       "4  1.317271    -0.038749 -1.091822   -1.111678       ...          \n",
       "\n",
       "   extraction_type_class  management  management_group   payment  \\\n",
       "0              -0.929625   -0.522373         -0.340028 -1.272516   \n",
       "1              -0.929625   -0.079115         -0.340028 -0.726817   \n",
       "2              -0.929625   -0.522373         -0.340028 -0.181119   \n",
       "3              -0.179561   -0.522373         -0.340028 -0.726817   \n",
       "4              -0.929625    0.364144          0.940980 -0.726817   \n",
       "\n",
       "   water_quality  quality_group  quantity  source_type  source_class  \\\n",
       "0      -0.326656       -0.33666 -0.730311    -1.350286     -0.538410   \n",
       "1      -0.326656       -0.33666  0.280253    -0.921252      1.765074   \n",
       "2      -0.326656       -0.33666 -0.730311    -0.492219      1.765074   \n",
       "3      -0.326656       -0.33666  1.290816    -0.063185     -0.538410   \n",
       "4      -0.326656       -0.33666  2.301380    -0.921252      1.765074   \n",
       "\n",
       "   waterpoint_type  \n",
       "0        -0.926551  \n",
       "1        -0.926551  \n",
       "2        -0.066287  \n",
       "3        -0.066287  \n",
       "4        -0.926551  \n",
       "\n",
       "[5 rows x 29 columns]"
      ]
     },
     "execution_count": 21,
     "metadata": {},
     "output_type": "execute_result"
    }
   ],
   "source": [
    "dataN.head()"
   ]
  },
  {
   "cell_type": "code",
   "execution_count": 22,
   "metadata": {
    "collapsed": false
   },
   "outputs": [],
   "source": [
    "X = dataN\n",
    "y = labels.ix[:,1:]"
   ]
  },
  {
   "cell_type": "code",
   "execution_count": null,
   "metadata": {
    "collapsed": false
   },
   "outputs": [],
   "source": [
    "model = SVC(kernel='linear',C=1).fit(X,y)"
   ]
  },
  {
   "cell_type": "code",
   "execution_count": null,
   "metadata": {
    "collapsed": true
   },
   "outputs": [],
   "source": []
  }
 ],
 "metadata": {
  "kernelspec": {
   "display_name": "Python 2",
   "language": "python",
   "name": "python2"
  }
 },
 "nbformat": 4,
 "nbformat_minor": 0
}
